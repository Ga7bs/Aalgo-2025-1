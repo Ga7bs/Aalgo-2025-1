{
  "nbformat": 4,
  "nbformat_minor": 0,
  "metadata": {
    "colab": {
      "provenance": []
    },
    "kernelspec": {
      "name": "python3",
      "display_name": "Python 3"
    },
    "language_info": {
      "name": "python"
    }
  },
  "cells": [
    {
      "cell_type": "code",
      "execution_count": 3,
      "metadata": {
        "id": "iPYa0kFan4I_",
        "colab": {
          "base_uri": "https://localhost:8080/"
        },
        "outputId": "a32d971b-e508-42d5-f2b7-440932238898"
      },
      "outputs": [
        {
          "output_type": "stream",
          "name": "stdout",
          "text": [
            "Digite um valor para n (não teste valores muito grandes): 90\n",
            "F(90) calculado recursivamente: 8046610255354971786844298990\n",
            "F(90) calculado pela fórmula fechada: 2475880078570760549798240256\n"
          ]
        }
      ],
      "source": [
        "import math\n",
        "\n",
        "def F(n):\n",
        "    # Caso base\n",
        "    if n == 1:\n",
        "        return 2\n",
        "    # Chamada recursiva\n",
        "    return 2 * F(n - 1) + n**2\n",
        "\n",
        "def calcular_f_fechada(n):\n",
        "    # Implementação da fórmula fechada calculada com base na série\n",
        "    # Esta fórmula precisa ser derivada com base na função original.\n",
        "    return 2**(n+1) - n**2 - n - 2 #n** significa n com exponencial\n",
        "\n",
        "def main():\n",
        "    try:\n",
        "        n = int(input(\"Digite um valor para n (não teste valores muito grandes): \"))\n",
        "        if n < 1:\n",
        "            print(\"Por favor, digite um número inteiro positivo.\")\n",
        "        else:\n",
        "            resultado_recursivo = F(n)\n",
        "            resultado_fechado = calcular_f_fechada(n)\n",
        "            print(f\"F({n}) calculado recursivamente: {resultado_recursivo}\")\n",
        "            print(f\"F({n}) calculado pela fórmula fechada: {resultado_fechado}\")\n",
        "    except ValueError:\n",
        "        print(\"Por favor, digite um número inteiro válido.\")\n",
        "\n",
        "if __name__ == \"__main__\":\n",
        "    main()"
      ]
    }
  ]
}