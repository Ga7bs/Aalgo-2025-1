{
  "nbformat": 4,
  "nbformat_minor": 0,
  "metadata": {
    "colab": {
      "provenance": []
    },
    "kernelspec": {
      "name": "python3",
      "display_name": "Python 3"
    },
    "language_info": {
      "name": "python"
    }
  },
  "cells": [
    {
      "cell_type": "code",
      "execution_count": 10,
      "metadata": {
        "colab": {
          "base_uri": "https://localhost:8080/"
        },
        "id": "tS-1fc4sZeoc",
        "outputId": "b71e3d79-b41f-4b7e-bf4e-abf48780b63a"
      },
      "outputs": [
        {
          "output_type": "stream",
          "name": "stdout",
          "text": [
            "array1: É palíndromo\n",
            "array2: É palíndromo\n",
            "array3: É palíndromo\n",
            "array4: Não é palíndromo\n"
          ]
        }
      ],
      "source": [
        "def is_palindrome(arr):\n",
        "    # Função recursiva para verificar se o array é um palíndromo\n",
        "    def check_palindrome(start, end):\n",
        "        # Se o ponteiro inicial cruzar o ponteiro final, é um palíndromo\n",
        "        if start >= end:\n",
        "            return True\n",
        "        # Se os elementos nas posições start e end são diferentes, não é um palíndromo\n",
        "        if arr[start] != arr[end]:\n",
        "            return False\n",
        "        # Chamada recursiva para o próximo par de elementos\n",
        "        return check_palindrome(start + 1, end - 1)\n",
        "\n",
        "    return check_palindrome(0, len(arr) - 1)\n",
        "\n",
        "# Exemplos de uso:\n",
        "array1 = [0, 1, 2, 3, 2, 1, 0]\n",
        "array2 = [\"a\", \"b\", \"b\", \"a\"]\n",
        "array3 = [\"a\", \"b\", \"c\", \"b\", \"a\"]\n",
        "array4 = [\"a\", \"b\", \"c\", \"f\", \"b\", \"a\"]\n",
        "\n",
        "print(\"array1:\", \"É palíndromo\" if is_palindrome(array1) else \"Não é palíndromo\")\n",
        "print(\"array2:\", \"É palíndromo\" if is_palindrome(array2) else \"Não é palíndromo\")\n",
        "print(\"array3:\", \"É palíndromo\" if is_palindrome(array3) else \"Não é palíndromo\")\n",
        "print(\"array4:\", \"É palíndromo\" if is_palindrome(array4) else \"Não é palíndromo\")"
      ]
    }
  ]
}