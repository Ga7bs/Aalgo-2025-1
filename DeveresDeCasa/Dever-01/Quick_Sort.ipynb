{
  "nbformat": 4,
  "nbformat_minor": 0,
  "metadata": {
    "colab": {
      "provenance": []
    },
    "kernelspec": {
      "name": "python3",
      "display_name": "Python 3"
    },
    "language_info": {
      "name": "python"
    }
  },
  "cells": [
    {
      "cell_type": "markdown",
      "source": [],
      "metadata": {
        "id": "Y5yo86gV1xZ5"
      }
    },
    {
      "cell_type": "code",
      "source": [
        "import time\n",
        "import random\n",
        "\n",
        "# Função para realizar a ordenação com Quick Sort\n",
        "def quick_sort(arr):\n",
        "    # Caso base: se a lista tiver 1 ou nenhum elemento, já está ordenada\n",
        "    if len(arr) <= 1:\n",
        "        return arr\n",
        "\n",
        "    # Escolher um elemento pivô (neste caso, o último elemento)\n",
        "    pivot = arr[-1]\n",
        "    left = []  # Elementos menores que o pivô\n",
        "    right = []  # Elementos maiores ou iguais ao pivô\n",
        "\n",
        "    # Percorrer todos os elementos da lista, exceto o pivô\n",
        "    for elem in arr[:-1]:\n",
        "        if elem < pivot:\n",
        "            left.append(elem)  # Adiciona à lista da esquerda\n",
        "        else:\n",
        "            right.append(elem)  # Adiciona à lista da direita\n",
        "\n",
        "    # Recursivamente ordenar as sublistas e combinar com o pivô no meio\n",
        "    return quick_sort(left) + [pivot] + quick_sort(right)\n",
        "\n",
        "# Função para medir o tempo de execução do Quick Sort para diferentes tamanhos de entrada\n",
        "def measure_time(n):\n",
        "    # Gerando uma lista aleatória de n elementos\n",
        "    arr = [random.randint(1, 10000) for _ in range(n)]\n",
        "\n",
        "    # Marcando o tempo de início\n",
        "    start_time = time.time()\n",
        "\n",
        "    # Chamando o Quick Sort\n",
        "    quick_sort(arr)\n",
        "\n",
        "    # Marcando o tempo de término\n",
        "    end_time = time.time()\n",
        "\n",
        "    # Calculando o tempo de execução\n",
        "    execution_time = end_time - start_time\n",
        "    return execution_time\n",
        "\n",
        "# Tamanhos de entrada\n",
        "sizes = [100, 1000, 10000, 100000]\n",
        "\n",
        "# Registrando os tempos de execução para os diferentes tamanhos\n",
        "for size in sizes:\n",
        "    time_taken = measure_time(size)\n",
        "    print(f'Tempo de execução para {size} elementos: {time_taken:.6f} segundos')\n",
        "\n",
        "# Tempo de execução para 100 elementos: 0.000123 segundos\n",
        "# Tempo de execução para 1000 elementos: 0.001546 segundos\n",
        "# Tempo de execução para 10000 elementos: 0.019266 segundos\n",
        "# Tempo de execução para 100000 elementos: 0.277826 segundos\n"
      ],
      "metadata": {
        "colab": {
          "base_uri": "https://localhost:8080/"
        },
        "id": "Ic4Y0bIs3Mj4",
        "outputId": "b668e236-389f-4f60-e431-9f5d80df75c6"
      },
      "execution_count": 38,
      "outputs": [
        {
          "output_type": "stream",
          "name": "stdout",
          "text": [
          ]
        }
      ]
    }
  ]
}
